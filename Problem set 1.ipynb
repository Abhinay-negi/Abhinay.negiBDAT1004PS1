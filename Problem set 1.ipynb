{
 "cells": [
  {
   "cell_type": "markdown",
   "metadata": {
    "slideshow": {
     "slide_type": "slide"
    }
   },
   "source": [
    "Question 1 : \n",
    "What data type is each of the following?\n",
    "\n",
    "Answer :\n",
    "5               - INT\n",
    "5.0             - Float\n",
    "5 > 1           - INT\n",
    "'5'             - INT\n",
    "5 * 2           - INT\n",
    "'5' * 2         - INT\n",
    "'5' + '2'       - INT\n",
    "5 / 2           - INT\n",
    "5 % 2           - INT\n",
    "{5, 2, 1}       - array\n",
    "5 == 3          - INT\n",
    "Pi (the number) - Char\n"
   ]
  },
  {
   "cell_type": "code",
   "execution_count": null,
   "metadata": {
    "slideshow": {
     "slide_type": "slide"
    }
   },
   "outputs": [],
   "source": [
    "Question 2 : \n",
    "Write (and evaluate) C# expressions that answer these questions:\n",
    "a. How many letters are there in 'Supercalifragilisticexpialidocious'?\n",
    "b. Does 'Supercalifragilisticexpialidocious' contain 'ice' as a substring? \n",
    "c. Which of the following words is the longest: \n",
    "Supercalifragilisticexpialidocious, Honorificabilitudinitatibus, or \n",
    "Bababadalgharaghtakamminarronnkonn? \n",
    "d. Which composer comes first in the dictionary: 'Berlioz', 'Borodin', 'Brian', \n",
    "'Bartok', 'Bellini', 'Buxtehude', 'Bernstein'. Which one comes last?\n",
    "\n",
    "\n",
    "\n",
    "Answer: \n",
    "\n",
    "namespace MyApp { internal class Program { static void Main(string[] args) { var word = \"Supercalifragilisticexpialidocious\";\n",
    "var length = word.Length;\n",
    "Console.WriteLine(\"The number of characters in Supercalifragilisticexpialidocious are \" + length); var result = word.Contains(\"ice\");\n",
    "Console.WriteLine(\"Does Supercalifragilisticexpialidocious contains ice:\" + result); var word2 = \"Honorificabilitudinitatibus\";\n",
    "var word3 = \"Bababadalgharaghtakamminarronnkonn\";\n",
    "var length2 = word2.Length;\n",
    "var length3 = word3.Length;\n",
    "if (length > length2)\n",
    "{ if (length > length3) \n",
    "{ Console.WriteLine(word + \" is longest among \" + word + \" \" + word2 + \" \" + word3); } \n",
    "else if (length < length3) { Console.WriteLine(word3 + \" is longest among \" + word + \" \" + word2 + \" \" + word3); } \n",
    "else { Console.WriteLine(word3 + \" and \" + word + \" are longest among \" + word + \" \" + word2 + \" \" + word3); } } \n",
    "else if (length < length2) { if (length2 > length3) { Console.WriteLine(word2 + \" is longest among \" + word + \" \" + word2 + \" \" + word3); } \n",
    "else if (length2 < length3) { Console.WriteLine(word3 + \" is longest among \" + word + \" \" + word2 + \" \" + word3); } \n",
    "else { Console.WriteLine(word2 + \" and \" + word3 + \" are longest among \" + word + \" \" + word2 + \" \" + word3); }\n",
    "\n",
    "        }\n",
    "        else\n",
    "        {\n",
    "            if (length > length3)\n",
    "            {\n",
    "                Console.WriteLine(word + \" and \" + word2 + \" are longest among \" + word + \" \" + word2 + \" \" + word3);\n",
    "            }\n",
    "            else if (length < length3)\n",
    "            {\n",
    "                Console.WriteLine(word3 + \" is longest among \" + word + \" \" + word2 + \" \" + word3);\n",
    "            }\n",
    "            else\n",
    "            {\n",
    "                Console.WriteLine(\"All three are equal in length\");\n",
    "            }\n",
    "        }\n",
    "        string[] composers = { \"Berlioz\", \"Borodin\", \"Brian\", \"Bartok\", \"Bellini\", \"Buxtehude\", \"Bernstein\" };\n",
    "        Array.Sort(composers);                                                                               \n",
    "        Console.WriteLine(\"The first composer in dictionary is \" + composers[0]);                              \n",
    "        Console.WriteLine(\"The last composer in dictionary is \" + composers[composers.Length - 1]);                                                                                                                                                                                        composer[composers.Length-1]\n",
    "    }\n",
    "}\n",
    "}\n",
    "\n",
    "\n"
   ]
  },
  {
   "cell_type": "code",
   "execution_count": null,
   "metadata": {
    "slideshow": {
     "slide_type": "slide"
    }
   },
   "outputs": [],
   "source": [
    "Question 3\n",
    "Implement function triangleArea(a,b,c) that takes as input the lengths of the 3\n",
    "sides of a triangle and returns the area of the triangle. By Heron's formula, the area \n",
    "of a triangle with side lengths a, b, and c is\n",
    "s(s - a)(s -b)(s -c)\n",
    ", where \n",
    "s = (a+b+c)/2.\n",
    "\n",
    "Answer :\n",
    "\n",
    "\n",
    "\n",
    "areatriangle { class program { static void Main(string[] args)\n",
    "{ //program to find Area of a Triangle = (a+b+c)/2 double a, b, c; double area, s; \n",
    "Console.Write(\"Enter the value of a ===) \"); \n",
    "a = double.Parse(Console.ReadLine()); \n",
    "Console.Write(\"Enter the value of b ===) \");\n",
    "b = double.Parse(Console.ReadLine());\n",
    "Console.Write(\"Enter the value of c ===) \"); \n",
    "c = double.Parse(Console.ReadLine());\n",
    "\n",
    "        s = (a + b + c) / 2;\n",
    "        area = Math.Sqrt(s * (s - a) * (s - b) * (s - c));\n",
    "        Console.WriteLine(\"The Area of a triangle is \" + area);\n",
    "        Console.ReadLine();\n",
    "\n",
    "\n",
    "\n",
    "    }\n",
    "\n",
    "  }\n",
    "}\n"
   ]
  },
  {
   "cell_type": "code",
   "execution_count": null,
   "metadata": {
    "slideshow": {
     "slide_type": "slide"
    }
   },
   "outputs": [],
   "source": [
    "Question 4\n",
    "Write a program in C# Sharp to separate odd and even integers in separate arrays. \n",
    "Go to the editor\n",
    "\n",
    "Answer :\n",
    "\n",
    "  internal class Program\n",
    "    {\n",
    "        static void Main(string[] args)\n",
    "        {\n",
    "            int[] a1 = new int[10];\n",
    "            int[] a2 = new int[10];\n",
    "            int[] a3 = new int[10];\n",
    "            int k, m = 0, j = 0, z;\n",
    "            Console.Write(\"\\n\\n odd and even integer in different array \\n\");\n",
    "            Console.Write(\"enter the element of the array\");\n",
    "            z = Convert.ToInt32(Console.ReadLine());\n",
    "            Console.Write(\"Enter {0} elements in the array \\n\", z);\n",
    "            for (k = 0; k < z; k++)\n",
    "            {\n",
    "                Console.Write(\"Element of {0} \", z);\n",
    "                a1[k] = Convert.ToInt32(Console.ReadLine());\n",
    "            }\n",
    "            for (k = 0; k < z; k++)\n",
    "            { \n",
    "                if (a1[k] % 2 == 0)\n",
    "                {\n",
    "                    a2[m] = a1[k];\n",
    "                    m++;\n",
    "                }\n",
    "                else\n",
    "                {\n",
    "                    a3[j] = a1[k];\n",
    "                    j++;\n",
    "                }\n",
    "            }\n",
    "            Console.Write(\"\\n\\n The Even interer element are \\n\");\n",
    "            for (k = 0; k < m; k++)\n",
    "            {\n",
    "                Console.Write(\"{0} \", a2[k]);\n",
    "            }\n",
    "            Console.Write(\"\\n\\n The Odd integer element are \\n\");\n",
    "            for (k = 0; k < j; k++)\n",
    "            {\n",
    "                Console.Write(\"{0} \", a3[k]);\n",
    "            }\n",
    "            Console.Write(\"\\n\\n\");\n",
    "            Console.ReadLine();\n",
    "        }\n",
    "\n",
    "    }\n",
    "}"
   ]
  },
  {
   "cell_type": "code",
   "execution_count": null,
   "metadata": {
    "slideshow": {
     "slide_type": "skip"
    }
   },
   "outputs": [],
   "source": [
    "Question 5"
   ]
  },
  {
   "cell_type": "code",
   "execution_count": null,
   "metadata": {
    "slideshow": {
     "slide_type": "slide"
    }
   },
   "outputs": [],
   "source": [
    "Question 6\n",
    "\n",
    "16. You can turn a word into pig-Latin using the following two rules (simplified):\n",
    "• If the word starts with a consonant, move that letter to the end and append \n",
    "'ay'. For example, 'happy' becomes 'appyhay' and 'pencil' becomes 'encilpay'.\n",
    "• If the word starts with a vowel, simply append 'way' to the end of the word. \n",
    "For example, 'enter' becomes 'enterway' and 'other' becomes 'otherway' . For \n",
    "our purposes, there are 5 vowels: a, e, i, o, u (so we count y as a consonant).\n",
    "Write a function pig() that takes a word (i.e., a string) as input and returns its pig\u0002Latin form. Your function should still work if the input word contains upper case \n",
    "characters. Your output should always be lower case however. \n",
    "\n",
    ">>> pig('happy')\n",
    "'appyhay'\n",
    ">>> pig('Enter')\n",
    "'enterway'\n",
    "\n",
    "Answer :\n",
    "\n",
    "def pig(str):\n",
    "    vowel = \"aieou\"\n",
    "    if str[0].lower() in vowel:\n",
    "        str = str.lower()\n",
    "        str = str+\"way\"\n",
    "    else:\n",
    "        str = str[1:]+str[0]+\"ay\"\n",
    "    print(str)\n",
    "    \n",
    "pig(\"happy\")\n",
    "pig('Enter')\n"
   ]
  },
  {
   "cell_type": "code",
   "execution_count": null,
   "metadata": {
    "slideshow": {
     "slide_type": "slide"
    }
   },
   "outputs": [],
   "source": [
    "Question 7\n",
    "File bloodtype1.txt records blood-types of patients (A, B, AB, O or OO) at a clinic. \n",
    "Write a function bldcount() that reads the file with name name and reports (i.e., \n",
    "prints) how many patients there are in each bloodtype.\n",
    ">>> bldcount('bloodtype.txt')\n",
    "There are 10 patients of blood type A.\n",
    "There is one patient of blood type B.\n",
    "There are 10 patients of blood type AB.\n",
    "There are 12 patients of blood type O.\n",
    "There are no patients of blood type OO.\n",
    "\n",
    "Answer :\n",
    "\n",
    "def bldcount(name):\n",
    "  with open(name) as f:\n",
    "      lines = f.read().split()\n",
    "      blood_types = ['A','B','AB','O','OO']\n",
    "      mylist = list(set(lines))\n",
    "      list_new = list(set(blood_types) - set(mylist))\n",
    "      for i in blood_types:\n",
    "        if i in mylist:\n",
    "          print(\"There are \"+str(lines.count(i))+ \" patients of blood type \"+i )\n",
    "        else:\n",
    "          list_new = list(set(blood_types) - set(mylist))\n",
    "          for j in list_new:\n",
    "            print(\"There are no patients of blood type \"+j)\n",
    "bldcount('bloodtype1.txt')\n"
   ]
  },
  {
   "cell_type": "code",
   "execution_count": null,
   "metadata": {
    "slideshow": {
     "slide_type": "slide"
    }
   },
   "outputs": [],
   "source": [
    "Question 8\n",
    "Write a function curconv() that takes as input:\n",
    "1. a currency represented using a string (e.g., 'JPY' for the Japanese Yen or \n",
    "'EUR' for the Euro)\n",
    "2. an amount\n",
    "and then converts and returns the amount in US dollars.\n",
    "\n",
    "\n",
    "Answer :\n",
    "def curconv(currency, amount):\n",
    "  with open('currencies.txt') as f:\n",
    "    lines = f.readlines()\n",
    "    for line in lines:\n",
    "      list_countries = line.split()\n",
    "      if list_countries[0]==currency:\n",
    "        amount = amount*float(list_countries[1])\n",
    "    print(amount)\n",
    "curconv('JPY',100)\n"
   ]
  },
  {
   "cell_type": "code",
   "execution_count": null,
   "metadata": {
    "slideshow": {
     "slide_type": "slide"
    }
   },
   "outputs": [],
   "source": [
    "Question 9\n",
    "Each of the following will cause an exception (an error). Identify what type of \n",
    "exception each will cause.\n",
    "\n",
    "Answer :\n",
    "6+'a' --- TypeError: unsupported operand type(s) for +: 'int' and 'str'\n",
    "\n",
    "list1 = [ i for i in range(0,10)]\n",
    "print(list1[12]) -------------------------IndexError: list index out of range\n",
    "\n",
    "math.sqrt(-1.0) ----------------------------ValueError: math domain error\n",
    "\n",
    "print(x) -----------------------------------NameError: name 'x' is not defined\n",
    "\n",
    "f = open('text.txt') -------------------------- FileNotFoundError: [Errno 2] No such file or directory: 'text.txt'\n",
    "\n",
    "\n"
   ]
  },
  {
   "cell_type": "code",
   "execution_count": null,
   "metadata": {
    "slideshow": {
     "slide_type": "skip"
    }
   },
   "outputs": [],
   "source": [
    "Question 10\n",
    "Encryption is the process of hiding the meaning of a text by substituting letters in the \n",
    "message with other letters, according to some system. If the process is successful, no \n",
    "one but the intended recipient can understand the encrypted message. Cryptanalysis\n",
    "refers to attempts to undo the encryption, even if some details of the encryption are \n",
    "unknown (for example, if an encrypted message has been intercepted). The first step \n",
    "of cryptanalysis is often to build up a table of letter frequencies in the encrypted text. \n",
    "Assume that the string letters is already defined as \n",
    "'abcdefghijklmnopqrstuvwxyz'. Write a function called frequencies()\n",
    "that takes a string as its only parameter, and returns a list of integers, showing the \n",
    "number of times each character appears in the text. Your function may ignore any \n",
    "characters that are not in letters. \n",
    ">>> frequencies('The quick red fox got bored and went home.')\n",
    "[1, 1, 1, 3, 5, 1, 1, 2, 1, 0, 1, 0, 1, 2, 4, 0, 1, 2, 0, 2, \n",
    "1, 0, 1, 1, 0, 0]\n",
    ">>> frequencies('apple')\n",
    "\n",
    "\n",
    "Answer :"
   ]
  }
 ],
 "metadata": {
  "celltoolbar": "Slideshow",
  "kernelspec": {
   "display_name": ".NET (C#)",
   "language": "C#",
   "name": ".net-csharp"
  },
  "language_info": {
   "file_extension": ".cs",
   "mimetype": "text/x-csharp",
   "name": "C#",
   "pygments_lexer": "csharp",
   "version": "8.0"
  }
 },
 "nbformat": 4,
 "nbformat_minor": 4
}
